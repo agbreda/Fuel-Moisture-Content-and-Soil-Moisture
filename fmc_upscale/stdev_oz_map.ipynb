{
 "cells": [
  {
   "cell_type": "code",
   "execution_count": 1,
   "metadata": {},
   "outputs": [
    {
     "name": "stderr",
     "output_type": "stream",
     "text": [
      "/g/data/oe9/software/miniconda3/lib/python3.6/site-packages/numpy/lib/nanfunctions.py:1545: RuntimeWarning: Degrees of freedom <= 0 for slice.\n",
      "  keepdims=keepdims)\n"
     ]
    },
    {
     "name": "stdout",
     "output_type": "stream",
     "text": [
      "0\n",
      "1\n",
      "2\n",
      "3\n"
     ]
    }
   ],
   "source": [
    "import numpy as np\n",
    "from matplotlib import pyplot as plt\n",
    "from matplotlib import ticker\n",
    "import pickle\n",
    "%matplotlib inline\n",
    "\n",
    "plt.style.use('ggplot')\n",
    "\n",
    "w = [\n",
    "    ['monthly_fmc_median.pkl', 'fmc_median', 'Monthly FMC standard deviation', 'ozmap01_fmc_stdev.png'],\n",
    "    ['monthly_s0.pkl', 's0', 'Monthly Upper Soil Moisture standard deviation', 'ozmap02_s0_stdev.png'],\n",
    "    ['monthly_ss.pkl', 'ss', 'Monthly Lower Soil Moisture standard deviation', 'ozmap03_ss_stdev.png'],\n",
    "    ['monthly_sd.pkl', 'sd', 'Monthly Deep Soil Moisture standard deviation', 'ozmap04_sd_stdev.png']\n",
    "]\n",
    "\n",
    "for i in range(len(w)):\n",
    "\n",
    "    with open(w[i][0], 'rb') as f:\n",
    "        data = pickle.load(f)\n",
    "    \n",
    "    s = np.nanstd(data[w[i][1]], axis=0)\n",
    "    print(i)\n",
    "\n",
    "    fig, ax = plt.subplots(figsize=(16,12))\n",
    "    cf = ax.contourf(data['longitude'], data['latitude'], s, levels=20, cmap='Greys')\n",
    "    ax.xaxis.set_tick_params(labelsize=20)\n",
    "    ax.yaxis.set_tick_params(labelsize=20)\n",
    "    cbar = plt.colorbar(cf)\n",
    "    cbar.ax.tick_params(labelsize=20)\n",
    "    tick_locator = ticker.MaxNLocator(nbins=11)\n",
    "    cbar.locator = tick_locator\n",
    "    cbar.update_ticks()\n",
    "    ax.set_title(w[i][2], fontsize = 24)\n",
    "    ax.set_facecolor('#4286f4')\n",
    "    fig.tight_layout()\n",
    "\n",
    "    plt.savefig(w[i][3])\n",
    "    plt.close(fig)"
   ]
  },
  {
   "cell_type": "code",
   "execution_count": null,
   "metadata": {},
   "outputs": [],
   "source": []
  }
 ],
 "metadata": {
  "kernelspec": {
   "display_name": "Python 3",
   "language": "python",
   "name": "python3"
  },
  "language_info": {
   "codemirror_mode": {
    "name": "ipython",
    "version": 3
   },
   "file_extension": ".py",
   "mimetype": "text/x-python",
   "name": "python",
   "nbconvert_exporter": "python",
   "pygments_lexer": "ipython3",
   "version": "3.6.8"
  }
 },
 "nbformat": 4,
 "nbformat_minor": 2
}
