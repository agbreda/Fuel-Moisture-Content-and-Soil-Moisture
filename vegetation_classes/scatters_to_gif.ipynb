{
 "cells": [
  {
   "cell_type": "markdown",
   "metadata": {},
   "source": [
    "To create the animated gifs, after running this program and have all the png files you have to use the \"convert\" command like:\n",
    "> convert -delay 50 Grassland*.png grassland.gif\n",
    "\n",
    "For Windows, the comand is similar but you have to install ImageMagick..."
   ]
  },
  {
   "cell_type": "code",
   "execution_count": 10,
   "metadata": {},
   "outputs": [
    {
     "name": "stdout",
     "output_type": "stream",
     "text": [
      "(31, 168, 4)\n"
     ]
    }
   ],
   "source": [
    "import numpy as np\n",
    "from matplotlib import pyplot as plt\n",
    "import pickle\n",
    "\n",
    "info = []\n",
    "\n",
    "#read the Data sites file (in different folder as this document)\n",
    "f = open('../DataSites.csv','r')\n",
    "\n",
    "# Reading each line of the file, skipping the first (non-data) line\n",
    "for line in f:\n",
    "    if line[0:2] == 'ID':\n",
    "        continue\n",
    "    line = line.split(',')\n",
    "    veg_type = line[3]\n",
    "    lat = float(line[4])\n",
    "    lon = float(line[5])\n",
    "    info.append([line[1],lat,lon,veg_type])\n",
    "    #print(info[-1])\n",
    "    \n",
    "f.close()\n",
    "\n",
    "\n",
    "\n",
    "# Read data matrices created at R2_monthly_daily\n",
    "with open('maindata.pkl', 'rb') as f:\n",
    "    info, day, month = pickle.load(f)\n",
    "\n",
    "print(month.shape)\n",
    "\n",
    "\n",
    "\n",
    "# Creating plots\n",
    "for veg in ['Grassland', 'Shrubland', 'Forest']:\n",
    "    \n",
    "    #txt = ''\n",
    "    nsite = 0\n",
    "    \n",
    "    fig, ax = plt.subplots()\n",
    "    ax.set_xlabel('Lower Soil Moisture')\n",
    "    ax.set_ylabel('Fuel Moisture Content')\n",
    "    ax.set_ylim(-10, 310)\n",
    "    ax.set_xlim(-0.05,1.05)\n",
    "    ax.set_title(veg+' sites')\n",
    "    \n",
    "    for i in range(len(info)):\n",
    "        \n",
    "        if info[i][3] == veg:\n",
    "            \n",
    "            #txt += str('%s\\n' %(info[i][0]))\n",
    "            nsite += 1\n",
    "            \n",
    "            ax.scatter(month[i,:,2], month[i,:,0])\n",
    "            \n",
    "            if nsite == 1:\n",
    "                fig.tight_layout()\n",
    "                #fig.subplots_adjust(right = 0.77)\n",
    "            \n",
    "            #fig.text(0.78, 0.05, txt, transform=fig.transFigure, size=11)\n",
    "            fig.savefig(veg+'_%2.2i.png' % nsite)\n",
    "    \n",
    "    plt.close(fig)\n",
    "            \n",
    "            "
   ]
  },
  {
   "cell_type": "code",
   "execution_count": null,
   "metadata": {},
   "outputs": [],
   "source": []
  }
 ],
 "metadata": {
  "kernelspec": {
   "display_name": "Python 3",
   "language": "python",
   "name": "python3"
  },
  "language_info": {
   "codemirror_mode": {
    "name": "ipython",
    "version": 3
   },
   "file_extension": ".py",
   "mimetype": "text/x-python",
   "name": "python",
   "nbconvert_exporter": "python",
   "pygments_lexer": "ipython3",
   "version": "3.6.8"
  }
 },
 "nbformat": 4,
 "nbformat_minor": 2
}
